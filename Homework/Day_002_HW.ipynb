{
 "cells": [
  {
   "cell_type": "markdown",
   "metadata": {},
   "source": [
    "## [作業目標]\n",
    "了解機器學習適合應用的領域與範疇。"
   ]
  },
  {
   "cell_type": "markdown",
   "metadata": {},
   "source": [
    "## [作業重點]\n",
    "透過瞭解機器學習的運作方式，找出非常適用機器學習應用的領域及其原因"
   ]
  },
  {
   "cell_type": "markdown",
   "metadata": {},
   "source": [
    "## 作業\n",
    "請找出一個你認為機器學習可以發光發熱的領域並闡述原因? "
   ]
  },
  {
   "cell_type": "markdown",
   "metadata": {},
   "source": [
    "### 駕駛飛機 / 汽車\n",
    "\n",
    "研究顯示，至今發生過的空難(90%以上)都是人為疏失所造成的，因為操作這些交通工具會耗費人類許多心神與注意力資源，大腦在同一時間要處理的資訊過於龐大(e.g. 目前的飛行高度、速度、氣溫、壓力、與目的地的距離、飛行時間、風速等)，什麼時候該按哪個鈕、飛行舵又要往哪個方向轉，這些工作都大大超出了人類的認知負荷，因此當人類處理資訊的結果一有閃失，就造成了駕駛人的手忙腳亂，更甚者導致不堪設想的人禍。\n",
    "\n",
    "然而，機器不如人類會疲勞，處理資訊的量與質都高出人類許多。同時，拜近年計算機科學的快速進展之賜，AI擁有了更快速、準確的判斷能力。所以我認為這種需要耗費大量認知資源並進行即時判斷的工作相當適合交付給機器學習來減輕人類駕駛的負擔。透過大量學習失敗/成功降落的飛行航程、汽車駕駛路程的數據，電腦可以快速判斷每分每秒，各項機械的參數該做什麼調整，可以隨時讓飛行器、汽車保持在最佳的狀態。不如人類會恍神、分心的電腦，彌補了人類認知資源的不足，讓乘客能享有最舒適安全的旅途。"
   ]
  }
 ],
 "metadata": {
  "kernelspec": {
   "display_name": "Python 3",
   "language": "python",
   "name": "python3"
  },
  "language_info": {
   "codemirror_mode": {
    "name": "ipython",
    "version": 3
   },
   "file_extension": ".py",
   "mimetype": "text/x-python",
   "name": "python",
   "nbconvert_exporter": "python",
   "pygments_lexer": "ipython3",
   "version": "3.7.4"
  }
 },
 "nbformat": 4,
 "nbformat_minor": 2
}
